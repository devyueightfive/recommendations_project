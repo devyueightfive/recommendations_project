{
 "cells": [
  {
   "cell_type": "code",
   "execution_count": 4,
   "metadata": {},
   "outputs": [
    {
     "name": "stdout",
     "output_type": "stream",
     "text": [
      "The autoreload extension is already loaded. To reload it, use:\n",
      "  %reload_ext autoreload\n"
     ]
    }
   ],
   "source": [
    "import os\n",
    "import sys\n",
    "import math\n",
    "import logging\n",
    "from pathlib import Path\n",
    "\n",
    "import numpy as np\n",
    "import scipy as sp\n",
    "import sklearn\n",
    "import statsmodels.api as sm\n",
    "from statsmodels.formula.api import ols\n",
    "\n",
    "%load_ext autoreload\n",
    "%autoreload 2\n",
    "\n",
    "import matplotlib as mpl\n",
    "import matplotlib.pyplot as plt\n",
    "%matplotlib inline\n",
    "%config InlineBackend.figure_format = 'retina'\n",
    "\n",
    "import seaborn as sns\n",
    "sns.set_context(\"poster\")\n",
    "sns.set(rc={'figure.figsize': (16, 9.)})\n",
    "sns.set_style(\"whitegrid\")\n",
    "\n",
    "import pandas as pd\n",
    "pd.set_option(\"display.max_rows\", 120)\n",
    "pd.set_option(\"display.max_columns\", 120)\n",
    "\n",
    "logging.basicConfig(level=logging.INFO, stream=sys.stdout)"
   ]
  },
  {
   "cell_type": "code",
   "execution_count": 5,
   "metadata": {},
   "outputs": [],
   "source": [
    "from scipy.linalg import norm"
   ]
  },
  {
   "cell_type": "raw",
   "metadata": {},
   "source": [
    "from recommendations_project import *"
   ]
  },
  {
   "cell_type": "markdown",
   "metadata": {},
   "source": [
    "**PLEASE** save this file right now using the following naming convention: `NUMBER_FOR_SORTING-YOUR_INITIALS-SHORT_DESCRIPTION`, e.g. `1.0-fw-initial-data-exploration`. Use the number to order the file within the directory according to its usage."
   ]
  },
  {
   "cell_type": "markdown",
   "metadata": {},
   "source": [
    "# Description"
   ]
  },
  {
   "cell_type": "markdown",
   "metadata": {},
   "source": [
    "**ENG:**"
   ]
  },
  {
   "cell_type": "markdown",
   "metadata": {},
   "source": [
    "Requirement:\n",
    "\n",
    "For this problem need to construct `recommendation system` on base of views and likes logs.\n",
    "\n",
    "Views and likes logs constructed by 4 columns:\n",
    "- `user_id` - user indentificator;\n",
    "- `item_id` - banner identificator;\n",
    "- `like` - flag of likes and views (view without like);\n",
    "- `timestamp` - time in unix seconds.\n",
    "\n",
    "For users and items there are features (latent features) with dimension 32.\n",
    "You need to predict 20 banners for users. Quality is measured by percentage of liked by users banners from recommended list (top-20 accuracy).\n",
    "\n",
    "`train.csv` - training dataset;\n",
    "`item-features` - features for banners;\n",
    "`user-features` - features for users.\n",
    "\n",
    "Quality of solution is rated by Top-K metrics, where k=20.    "
   ]
  },
  {
   "cell_type": "markdown",
   "metadata": {},
   "source": [
    "**RUS:**"
   ]
  },
  {
   "cell_type": "markdown",
   "metadata": {},
   "source": [
    "Условия\n",
    "\n",
    "Для данной задачи вам предстоит построить `рекомендательную систему баннеров` на основе `логов просмотров и лайков`.\n",
    "\n",
    "Логи представлены четырьмя колонками:\n",
    "\n",
    "- `user_id` (идентификатор пользователя),\n",
    "- `item_id` (идентификатор баннера),\n",
    "- `like` (флаг понравился ли пользователю баннер),\n",
    "- `timestamp` (unix время в секундах совершения действия).\n",
    "Кроме того, для пользователей и баннеров имеются признаки размерностью 32.\n",
    "\n",
    "Вам необходимо предсказать 20 баннеров для пользователей. Качество решения будет оцениваться как доля \"лайкнутых\" пользователей баннеров из предложенного вами списка (top-20 accuracy).\n",
    "\n",
    "Описание файлов\n",
    "`test.csv` — тестовый файл, содержащий идентификаторы пользователи, для которых необходимо сделать предсказания\n",
    "\n",
    "`train.csv` — обучающий датасет\n",
    "\n",
    "`item-features.csv` — признаки для баннеров\n",
    "\n",
    "`user-features` — признаки для пользователей\n",
    "\n",
    "`sample-submission.csv` — пример решения (сабмита).\n",
    "\n",
    "качество решения оценивается по метрике Top-K Accuracy, где k = 20. Код:"
   ]
  },
  {
   "cell_type": "markdown",
   "metadata": {},
   "source": [
    "# Data"
   ]
  },
  {
   "cell_type": "code",
   "execution_count": 6,
   "metadata": {},
   "outputs": [
    {
     "name": "stdout",
     "output_type": "stream",
     "text": [
      "List of of raw data:\n",
      "item-features.csv  test.csv  train.csv\tuser-features.csv\r\n"
     ]
    }
   ],
   "source": [
    "print(\"List of of raw data:\")\n",
    "PATH_TO_DATA = '../data/raw/'\n",
    "!ls $PATH_TO_DATA"
   ]
  },
  {
   "cell_type": "code",
   "execution_count": 7,
   "metadata": {},
   "outputs": [
    {
     "name": "stdout",
     "output_type": "stream",
     "text": [
      "Structure of 'user-features' table:\n"
     ]
    },
    {
     "data": {
      "text/html": [
       "<div>\n",
       "<style scoped>\n",
       "    .dataframe tbody tr th:only-of-type {\n",
       "        vertical-align: middle;\n",
       "    }\n",
       "\n",
       "    .dataframe tbody tr th {\n",
       "        vertical-align: top;\n",
       "    }\n",
       "\n",
       "    .dataframe thead th {\n",
       "        text-align: right;\n",
       "    }\n",
       "</style>\n",
       "<table border=\"1\" class=\"dataframe\">\n",
       "  <thead>\n",
       "    <tr style=\"text-align: right;\">\n",
       "      <th></th>\n",
       "      <th>user_id</th>\n",
       "      <th>0</th>\n",
       "      <th>1</th>\n",
       "      <th>2</th>\n",
       "      <th>3</th>\n",
       "      <th>4</th>\n",
       "      <th>5</th>\n",
       "      <th>6</th>\n",
       "      <th>7</th>\n",
       "      <th>8</th>\n",
       "      <th>9</th>\n",
       "      <th>10</th>\n",
       "      <th>11</th>\n",
       "      <th>12</th>\n",
       "      <th>13</th>\n",
       "      <th>14</th>\n",
       "      <th>15</th>\n",
       "      <th>16</th>\n",
       "      <th>17</th>\n",
       "      <th>18</th>\n",
       "      <th>19</th>\n",
       "      <th>20</th>\n",
       "      <th>21</th>\n",
       "      <th>22</th>\n",
       "      <th>23</th>\n",
       "      <th>24</th>\n",
       "      <th>25</th>\n",
       "      <th>26</th>\n",
       "      <th>27</th>\n",
       "      <th>28</th>\n",
       "      <th>29</th>\n",
       "      <th>30</th>\n",
       "      <th>31</th>\n",
       "    </tr>\n",
       "  </thead>\n",
       "  <tbody>\n",
       "    <tr>\n",
       "      <th>0</th>\n",
       "      <td>0</td>\n",
       "      <td>0.000695</td>\n",
       "      <td>-0.001573</td>\n",
       "      <td>-0.001470</td>\n",
       "      <td>0.002085</td>\n",
       "      <td>-0.000498</td>\n",
       "      <td>0.000685</td>\n",
       "      <td>0.000811</td>\n",
       "      <td>0.000666</td>\n",
       "      <td>-0.003031</td>\n",
       "      <td>-0.003031</td>\n",
       "      <td>0.003419</td>\n",
       "      <td>0.000290</td>\n",
       "      <td>0.002290</td>\n",
       "      <td>0.001305</td>\n",
       "      <td>0.000772</td>\n",
       "      <td>-0.002100</td>\n",
       "      <td>-0.000179</td>\n",
       "      <td>-0.001676</td>\n",
       "      <td>-0.000888</td>\n",
       "      <td>-0.000888</td>\n",
       "      <td>-0.000743</td>\n",
       "      <td>-0.003181</td>\n",
       "      <td>-0.004196</td>\n",
       "      <td>-0.000698</td>\n",
       "      <td>0.001121</td>\n",
       "      <td>-0.001079</td>\n",
       "      <td>-0.001993</td>\n",
       "      <td>-0.001993</td>\n",
       "      <td>0.000422</td>\n",
       "      <td>-0.001168</td>\n",
       "      <td>-0.001168</td>\n",
       "      <td>0.000297</td>\n",
       "    </tr>\n",
       "    <tr>\n",
       "      <th>1</th>\n",
       "      <td>1</td>\n",
       "      <td>0.001204</td>\n",
       "      <td>-0.002725</td>\n",
       "      <td>-0.002546</td>\n",
       "      <td>0.003612</td>\n",
       "      <td>-0.000862</td>\n",
       "      <td>0.001187</td>\n",
       "      <td>0.001404</td>\n",
       "      <td>0.001154</td>\n",
       "      <td>-0.005251</td>\n",
       "      <td>-0.005251</td>\n",
       "      <td>0.005921</td>\n",
       "      <td>0.000502</td>\n",
       "      <td>0.003966</td>\n",
       "      <td>0.002260</td>\n",
       "      <td>0.001337</td>\n",
       "      <td>-0.003637</td>\n",
       "      <td>-0.000310</td>\n",
       "      <td>-0.002904</td>\n",
       "      <td>-0.001539</td>\n",
       "      <td>-0.001539</td>\n",
       "      <td>-0.001286</td>\n",
       "      <td>-0.005510</td>\n",
       "      <td>-0.007268</td>\n",
       "      <td>-0.001209</td>\n",
       "      <td>0.001942</td>\n",
       "      <td>-0.001870</td>\n",
       "      <td>-0.003451</td>\n",
       "      <td>-0.003451</td>\n",
       "      <td>0.000732</td>\n",
       "      <td>-0.002023</td>\n",
       "      <td>-0.002023</td>\n",
       "      <td>0.000515</td>\n",
       "    </tr>\n",
       "    <tr>\n",
       "      <th>2</th>\n",
       "      <td>2</td>\n",
       "      <td>0.000491</td>\n",
       "      <td>-0.001112</td>\n",
       "      <td>-0.001039</td>\n",
       "      <td>0.001475</td>\n",
       "      <td>-0.000352</td>\n",
       "      <td>0.000484</td>\n",
       "      <td>0.000573</td>\n",
       "      <td>0.000471</td>\n",
       "      <td>-0.002144</td>\n",
       "      <td>-0.002144</td>\n",
       "      <td>0.002417</td>\n",
       "      <td>0.000205</td>\n",
       "      <td>0.001619</td>\n",
       "      <td>0.000923</td>\n",
       "      <td>0.000546</td>\n",
       "      <td>-0.001485</td>\n",
       "      <td>-0.000126</td>\n",
       "      <td>-0.001185</td>\n",
       "      <td>-0.000628</td>\n",
       "      <td>-0.000628</td>\n",
       "      <td>-0.000525</td>\n",
       "      <td>-0.002250</td>\n",
       "      <td>-0.002967</td>\n",
       "      <td>-0.000494</td>\n",
       "      <td>0.000793</td>\n",
       "      <td>-0.000763</td>\n",
       "      <td>-0.001409</td>\n",
       "      <td>-0.001409</td>\n",
       "      <td>0.000299</td>\n",
       "      <td>-0.000826</td>\n",
       "      <td>-0.000826</td>\n",
       "      <td>0.000210</td>\n",
       "    </tr>\n",
       "    <tr>\n",
       "      <th>3</th>\n",
       "      <td>3</td>\n",
       "      <td>0.000777</td>\n",
       "      <td>-0.001759</td>\n",
       "      <td>-0.001643</td>\n",
       "      <td>0.002332</td>\n",
       "      <td>-0.000557</td>\n",
       "      <td>0.000766</td>\n",
       "      <td>0.000906</td>\n",
       "      <td>0.000745</td>\n",
       "      <td>-0.003389</td>\n",
       "      <td>-0.003389</td>\n",
       "      <td>0.003822</td>\n",
       "      <td>0.000324</td>\n",
       "      <td>0.002560</td>\n",
       "      <td>0.001459</td>\n",
       "      <td>0.000863</td>\n",
       "      <td>-0.002348</td>\n",
       "      <td>-0.000200</td>\n",
       "      <td>-0.001874</td>\n",
       "      <td>-0.000993</td>\n",
       "      <td>-0.000993</td>\n",
       "      <td>-0.000830</td>\n",
       "      <td>-0.003557</td>\n",
       "      <td>-0.004691</td>\n",
       "      <td>-0.000781</td>\n",
       "      <td>0.001254</td>\n",
       "      <td>-0.001207</td>\n",
       "      <td>-0.002228</td>\n",
       "      <td>-0.002228</td>\n",
       "      <td>0.000472</td>\n",
       "      <td>-0.001306</td>\n",
       "      <td>-0.001306</td>\n",
       "      <td>0.000332</td>\n",
       "    </tr>\n",
       "    <tr>\n",
       "      <th>4</th>\n",
       "      <td>4</td>\n",
       "      <td>0.000695</td>\n",
       "      <td>-0.001573</td>\n",
       "      <td>-0.001470</td>\n",
       "      <td>0.002085</td>\n",
       "      <td>-0.000498</td>\n",
       "      <td>0.000685</td>\n",
       "      <td>0.000811</td>\n",
       "      <td>0.000666</td>\n",
       "      <td>-0.003031</td>\n",
       "      <td>-0.003031</td>\n",
       "      <td>0.003419</td>\n",
       "      <td>0.000290</td>\n",
       "      <td>0.002290</td>\n",
       "      <td>0.001305</td>\n",
       "      <td>0.000772</td>\n",
       "      <td>-0.002100</td>\n",
       "      <td>-0.000179</td>\n",
       "      <td>-0.001676</td>\n",
       "      <td>-0.000888</td>\n",
       "      <td>-0.000888</td>\n",
       "      <td>-0.000743</td>\n",
       "      <td>-0.003181</td>\n",
       "      <td>-0.004196</td>\n",
       "      <td>-0.000698</td>\n",
       "      <td>0.001121</td>\n",
       "      <td>-0.001079</td>\n",
       "      <td>-0.001993</td>\n",
       "      <td>-0.001993</td>\n",
       "      <td>0.000422</td>\n",
       "      <td>-0.001168</td>\n",
       "      <td>-0.001168</td>\n",
       "      <td>0.000297</td>\n",
       "    </tr>\n",
       "  </tbody>\n",
       "</table>\n",
       "</div>"
      ],
      "text/plain": [
       "   user_id         0         1         2         3         4         5  \\\n",
       "0        0  0.000695 -0.001573 -0.001470  0.002085 -0.000498  0.000685   \n",
       "1        1  0.001204 -0.002725 -0.002546  0.003612 -0.000862  0.001187   \n",
       "2        2  0.000491 -0.001112 -0.001039  0.001475 -0.000352  0.000484   \n",
       "3        3  0.000777 -0.001759 -0.001643  0.002332 -0.000557  0.000766   \n",
       "4        4  0.000695 -0.001573 -0.001470  0.002085 -0.000498  0.000685   \n",
       "\n",
       "          6         7         8         9        10        11        12  \\\n",
       "0  0.000811  0.000666 -0.003031 -0.003031  0.003419  0.000290  0.002290   \n",
       "1  0.001404  0.001154 -0.005251 -0.005251  0.005921  0.000502  0.003966   \n",
       "2  0.000573  0.000471 -0.002144 -0.002144  0.002417  0.000205  0.001619   \n",
       "3  0.000906  0.000745 -0.003389 -0.003389  0.003822  0.000324  0.002560   \n",
       "4  0.000811  0.000666 -0.003031 -0.003031  0.003419  0.000290  0.002290   \n",
       "\n",
       "         13        14        15        16        17        18        19  \\\n",
       "0  0.001305  0.000772 -0.002100 -0.000179 -0.001676 -0.000888 -0.000888   \n",
       "1  0.002260  0.001337 -0.003637 -0.000310 -0.002904 -0.001539 -0.001539   \n",
       "2  0.000923  0.000546 -0.001485 -0.000126 -0.001185 -0.000628 -0.000628   \n",
       "3  0.001459  0.000863 -0.002348 -0.000200 -0.001874 -0.000993 -0.000993   \n",
       "4  0.001305  0.000772 -0.002100 -0.000179 -0.001676 -0.000888 -0.000888   \n",
       "\n",
       "         20        21        22        23        24        25        26  \\\n",
       "0 -0.000743 -0.003181 -0.004196 -0.000698  0.001121 -0.001079 -0.001993   \n",
       "1 -0.001286 -0.005510 -0.007268 -0.001209  0.001942 -0.001870 -0.003451   \n",
       "2 -0.000525 -0.002250 -0.002967 -0.000494  0.000793 -0.000763 -0.001409   \n",
       "3 -0.000830 -0.003557 -0.004691 -0.000781  0.001254 -0.001207 -0.002228   \n",
       "4 -0.000743 -0.003181 -0.004196 -0.000698  0.001121 -0.001079 -0.001993   \n",
       "\n",
       "         27        28        29        30        31  \n",
       "0 -0.001993  0.000422 -0.001168 -0.001168  0.000297  \n",
       "1 -0.003451  0.000732 -0.002023 -0.002023  0.000515  \n",
       "2 -0.001409  0.000299 -0.000826 -0.000826  0.000210  \n",
       "3 -0.002228  0.000472 -0.001306 -0.001306  0.000332  \n",
       "4 -0.001993  0.000422 -0.001168 -0.001168  0.000297  "
      ]
     },
     "metadata": {},
     "output_type": "display_data"
    },
    {
     "name": "stdout",
     "output_type": "stream",
     "text": [
      "Every user has 32 features. Vector of features describes user preferences in space of features.\n",
      "User-Feature matrix has shape (497, 32).\n"
     ]
    }
   ],
   "source": [
    "print(\"Structure of 'user-features' table:\")\n",
    "UF_data = (pd.read_csv(os.path.join(os.path.abspath(PATH_TO_DATA), 'user-features.csv'))).sort_values(by='user_id')\n",
    "display(UF_data.head())\n",
    "print(\"Every user has 32 features. Vector of features describes user preferences in space of features.\")\n",
    "UF = UF_data[UF_data.columns[1:]].values\n",
    "print(f'User-Feature matrix has shape {UF.shape}.')"
   ]
  },
  {
   "cell_type": "code",
   "execution_count": 8,
   "metadata": {},
   "outputs": [
    {
     "name": "stdout",
     "output_type": "stream",
     "text": [
      "Vectors of preferencies have different lengthes.\n",
      "Example of 5 vectors:\n"
     ]
    },
    {
     "data": {
      "text/plain": [
       "[0.00999676350828053,\n",
       " 0.01731490230759232,\n",
       " 0.007068779266623366,\n",
       " 0.011176721379752248,\n",
       " 0.00999676350828053]"
      ]
     },
     "metadata": {},
     "output_type": "display_data"
    }
   ],
   "source": [
    "print('Vectors of preferencies have different lengthes.')\n",
    "print('Example of 5 vectors:')\n",
    "display([norm(x) for x in UF[:5]])"
   ]
  },
  {
   "cell_type": "code",
   "execution_count": 9,
   "metadata": {},
   "outputs": [
    {
     "name": "stdout",
     "output_type": "stream",
     "text": [
      "The same picture for item-feature table:\n"
     ]
    },
    {
     "data": {
      "text/html": [
       "<div>\n",
       "<style scoped>\n",
       "    .dataframe tbody tr th:only-of-type {\n",
       "        vertical-align: middle;\n",
       "    }\n",
       "\n",
       "    .dataframe tbody tr th {\n",
       "        vertical-align: top;\n",
       "    }\n",
       "\n",
       "    .dataframe thead th {\n",
       "        text-align: right;\n",
       "    }\n",
       "</style>\n",
       "<table border=\"1\" class=\"dataframe\">\n",
       "  <thead>\n",
       "    <tr style=\"text-align: right;\">\n",
       "      <th></th>\n",
       "      <th>item_id</th>\n",
       "      <th>0</th>\n",
       "      <th>1</th>\n",
       "      <th>2</th>\n",
       "      <th>3</th>\n",
       "      <th>4</th>\n",
       "      <th>5</th>\n",
       "      <th>6</th>\n",
       "      <th>7</th>\n",
       "      <th>8</th>\n",
       "      <th>9</th>\n",
       "      <th>10</th>\n",
       "      <th>11</th>\n",
       "      <th>12</th>\n",
       "      <th>13</th>\n",
       "      <th>14</th>\n",
       "      <th>15</th>\n",
       "      <th>16</th>\n",
       "      <th>17</th>\n",
       "      <th>18</th>\n",
       "      <th>19</th>\n",
       "      <th>20</th>\n",
       "      <th>21</th>\n",
       "      <th>22</th>\n",
       "      <th>23</th>\n",
       "      <th>24</th>\n",
       "      <th>25</th>\n",
       "      <th>26</th>\n",
       "      <th>27</th>\n",
       "      <th>28</th>\n",
       "      <th>29</th>\n",
       "      <th>30</th>\n",
       "      <th>31</th>\n",
       "    </tr>\n",
       "  </thead>\n",
       "  <tbody>\n",
       "    <tr>\n",
       "      <th>388</th>\n",
       "      <td>0</td>\n",
       "      <td>0.001433</td>\n",
       "      <td>-0.003243</td>\n",
       "      <td>-0.003030</td>\n",
       "      <td>0.004299</td>\n",
       "      <td>-0.001026</td>\n",
       "      <td>0.001412</td>\n",
       "      <td>0.001671</td>\n",
       "      <td>0.001373</td>\n",
       "      <td>-0.006249</td>\n",
       "      <td>-0.006249</td>\n",
       "      <td>0.007048</td>\n",
       "      <td>0.000598</td>\n",
       "      <td>0.004721</td>\n",
       "      <td>0.002690</td>\n",
       "      <td>0.001591</td>\n",
       "      <td>-0.004329</td>\n",
       "      <td>-0.000369</td>\n",
       "      <td>-0.003456</td>\n",
       "      <td>-0.001831</td>\n",
       "      <td>-0.001831</td>\n",
       "      <td>-0.001531</td>\n",
       "      <td>-0.006559</td>\n",
       "      <td>-0.008651</td>\n",
       "      <td>-0.001440</td>\n",
       "      <td>0.002312</td>\n",
       "      <td>-0.002225</td>\n",
       "      <td>-0.004108</td>\n",
       "      <td>-0.004108</td>\n",
       "      <td>0.000871</td>\n",
       "      <td>-0.002408</td>\n",
       "      <td>-0.002408</td>\n",
       "      <td>0.000613</td>\n",
       "    </tr>\n",
       "    <tr>\n",
       "      <th>169</th>\n",
       "      <td>1</td>\n",
       "      <td>0.002482</td>\n",
       "      <td>-0.005617</td>\n",
       "      <td>-0.005248</td>\n",
       "      <td>0.007446</td>\n",
       "      <td>-0.001777</td>\n",
       "      <td>0.002446</td>\n",
       "      <td>0.002895</td>\n",
       "      <td>0.002378</td>\n",
       "      <td>-0.010824</td>\n",
       "      <td>-0.010824</td>\n",
       "      <td>0.012207</td>\n",
       "      <td>0.001035</td>\n",
       "      <td>0.008177</td>\n",
       "      <td>0.004659</td>\n",
       "      <td>0.002756</td>\n",
       "      <td>-0.007498</td>\n",
       "      <td>-0.000639</td>\n",
       "      <td>-0.005986</td>\n",
       "      <td>-0.003172</td>\n",
       "      <td>-0.003172</td>\n",
       "      <td>-0.002652</td>\n",
       "      <td>-0.011360</td>\n",
       "      <td>-0.014983</td>\n",
       "      <td>-0.002493</td>\n",
       "      <td>0.004004</td>\n",
       "      <td>-0.003855</td>\n",
       "      <td>-0.007115</td>\n",
       "      <td>-0.007115</td>\n",
       "      <td>0.001508</td>\n",
       "      <td>-0.004171</td>\n",
       "      <td>-0.004171</td>\n",
       "      <td>0.001062</td>\n",
       "    </tr>\n",
       "    <tr>\n",
       "      <th>239</th>\n",
       "      <td>2</td>\n",
       "      <td>0.001871</td>\n",
       "      <td>-0.004236</td>\n",
       "      <td>-0.003958</td>\n",
       "      <td>0.005615</td>\n",
       "      <td>-0.001340</td>\n",
       "      <td>0.001845</td>\n",
       "      <td>0.002183</td>\n",
       "      <td>0.001793</td>\n",
       "      <td>-0.008162</td>\n",
       "      <td>-0.008162</td>\n",
       "      <td>0.009205</td>\n",
       "      <td>0.000781</td>\n",
       "      <td>0.006166</td>\n",
       "      <td>0.003513</td>\n",
       "      <td>0.002078</td>\n",
       "      <td>-0.005654</td>\n",
       "      <td>-0.000482</td>\n",
       "      <td>-0.004514</td>\n",
       "      <td>-0.002392</td>\n",
       "      <td>-0.002392</td>\n",
       "      <td>-0.002000</td>\n",
       "      <td>-0.008566</td>\n",
       "      <td>-0.011299</td>\n",
       "      <td>-0.001880</td>\n",
       "      <td>0.003020</td>\n",
       "      <td>-0.002907</td>\n",
       "      <td>-0.005365</td>\n",
       "      <td>-0.005365</td>\n",
       "      <td>0.001137</td>\n",
       "      <td>-0.003145</td>\n",
       "      <td>-0.003145</td>\n",
       "      <td>0.000801</td>\n",
       "    </tr>\n",
       "    <tr>\n",
       "      <th>425</th>\n",
       "      <td>3</td>\n",
       "      <td>0.001390</td>\n",
       "      <td>-0.003146</td>\n",
       "      <td>-0.002940</td>\n",
       "      <td>0.004171</td>\n",
       "      <td>-0.000996</td>\n",
       "      <td>0.001370</td>\n",
       "      <td>0.001622</td>\n",
       "      <td>0.001332</td>\n",
       "      <td>-0.006063</td>\n",
       "      <td>-0.006063</td>\n",
       "      <td>0.006837</td>\n",
       "      <td>0.000580</td>\n",
       "      <td>0.004580</td>\n",
       "      <td>0.002610</td>\n",
       "      <td>0.001544</td>\n",
       "      <td>-0.004199</td>\n",
       "      <td>-0.000358</td>\n",
       "      <td>-0.003353</td>\n",
       "      <td>-0.001777</td>\n",
       "      <td>-0.001777</td>\n",
       "      <td>-0.001485</td>\n",
       "      <td>-0.006363</td>\n",
       "      <td>-0.008392</td>\n",
       "      <td>-0.001397</td>\n",
       "      <td>0.002243</td>\n",
       "      <td>-0.002159</td>\n",
       "      <td>-0.003985</td>\n",
       "      <td>-0.003985</td>\n",
       "      <td>0.000845</td>\n",
       "      <td>-0.002336</td>\n",
       "      <td>-0.002336</td>\n",
       "      <td>0.000595</td>\n",
       "    </tr>\n",
       "    <tr>\n",
       "      <th>260</th>\n",
       "      <td>4</td>\n",
       "      <td>0.001738</td>\n",
       "      <td>-0.003933</td>\n",
       "      <td>-0.003675</td>\n",
       "      <td>0.005213</td>\n",
       "      <td>-0.001244</td>\n",
       "      <td>0.001713</td>\n",
       "      <td>0.002027</td>\n",
       "      <td>0.001665</td>\n",
       "      <td>-0.007579</td>\n",
       "      <td>-0.007579</td>\n",
       "      <td>0.008546</td>\n",
       "      <td>0.000725</td>\n",
       "      <td>0.005725</td>\n",
       "      <td>0.003262</td>\n",
       "      <td>0.001930</td>\n",
       "      <td>-0.005249</td>\n",
       "      <td>-0.000447</td>\n",
       "      <td>-0.004191</td>\n",
       "      <td>-0.002221</td>\n",
       "      <td>-0.002221</td>\n",
       "      <td>-0.001857</td>\n",
       "      <td>-0.007953</td>\n",
       "      <td>-0.010490</td>\n",
       "      <td>-0.001746</td>\n",
       "      <td>0.002804</td>\n",
       "      <td>-0.002699</td>\n",
       "      <td>-0.004982</td>\n",
       "      <td>-0.004982</td>\n",
       "      <td>0.001056</td>\n",
       "      <td>-0.002920</td>\n",
       "      <td>-0.002920</td>\n",
       "      <td>0.000743</td>\n",
       "    </tr>\n",
       "  </tbody>\n",
       "</table>\n",
       "</div>"
      ],
      "text/plain": [
       "     item_id         0         1         2         3         4         5  \\\n",
       "388        0  0.001433 -0.003243 -0.003030  0.004299 -0.001026  0.001412   \n",
       "169        1  0.002482 -0.005617 -0.005248  0.007446 -0.001777  0.002446   \n",
       "239        2  0.001871 -0.004236 -0.003958  0.005615 -0.001340  0.001845   \n",
       "425        3  0.001390 -0.003146 -0.002940  0.004171 -0.000996  0.001370   \n",
       "260        4  0.001738 -0.003933 -0.003675  0.005213 -0.001244  0.001713   \n",
       "\n",
       "            6         7         8         9        10        11        12  \\\n",
       "388  0.001671  0.001373 -0.006249 -0.006249  0.007048  0.000598  0.004721   \n",
       "169  0.002895  0.002378 -0.010824 -0.010824  0.012207  0.001035  0.008177   \n",
       "239  0.002183  0.001793 -0.008162 -0.008162  0.009205  0.000781  0.006166   \n",
       "425  0.001622  0.001332 -0.006063 -0.006063  0.006837  0.000580  0.004580   \n",
       "260  0.002027  0.001665 -0.007579 -0.007579  0.008546  0.000725  0.005725   \n",
       "\n",
       "           13        14        15        16        17        18        19  \\\n",
       "388  0.002690  0.001591 -0.004329 -0.000369 -0.003456 -0.001831 -0.001831   \n",
       "169  0.004659  0.002756 -0.007498 -0.000639 -0.005986 -0.003172 -0.003172   \n",
       "239  0.003513  0.002078 -0.005654 -0.000482 -0.004514 -0.002392 -0.002392   \n",
       "425  0.002610  0.001544 -0.004199 -0.000358 -0.003353 -0.001777 -0.001777   \n",
       "260  0.003262  0.001930 -0.005249 -0.000447 -0.004191 -0.002221 -0.002221   \n",
       "\n",
       "           20        21        22        23        24        25        26  \\\n",
       "388 -0.001531 -0.006559 -0.008651 -0.001440  0.002312 -0.002225 -0.004108   \n",
       "169 -0.002652 -0.011360 -0.014983 -0.002493  0.004004 -0.003855 -0.007115   \n",
       "239 -0.002000 -0.008566 -0.011299 -0.001880  0.003020 -0.002907 -0.005365   \n",
       "425 -0.001485 -0.006363 -0.008392 -0.001397  0.002243 -0.002159 -0.003985   \n",
       "260 -0.001857 -0.007953 -0.010490 -0.001746  0.002804 -0.002699 -0.004982   \n",
       "\n",
       "           27        28        29        30        31  \n",
       "388 -0.004108  0.000871 -0.002408 -0.002408  0.000613  \n",
       "169 -0.007115  0.001508 -0.004171 -0.004171  0.001062  \n",
       "239 -0.005365  0.001137 -0.003145 -0.003145  0.000801  \n",
       "425 -0.003985  0.000845 -0.002336 -0.002336  0.000595  \n",
       "260 -0.004982  0.001056 -0.002920 -0.002920  0.000743  "
      ]
     },
     "metadata": {},
     "output_type": "display_data"
    },
    {
     "name": "stdout",
     "output_type": "stream",
     "text": [
      "Every item has 32 features. Vector of features describes item in space of features.\n",
      "User-Feature matrix has shape (444, 33).\n"
     ]
    }
   ],
   "source": [
    "print('The same picture for item-feature table:')\n",
    "IF_data = (pd.read_csv(os.path.join(os.path.abspath(PATH_TO_DATA), 'item-features.csv'))).sort_values(by='item_id')\n",
    "display(IF_data.head())\n",
    "print(\"Every item has 32 features. Vector of features describes item in space of features.\")\n",
    "IF = IF_data[IF_data.columns[1:]].values\n",
    "print(f'User-Feature matrix has shape {IF_data.shape}.')"
   ]
  },
  {
   "cell_type": "code",
   "execution_count": 10,
   "metadata": {},
   "outputs": [
    {
     "name": "stdout",
     "output_type": "stream",
     "text": [
      "Vectors of items have different lengthes.\n",
      "Example of 5 vectors:\n"
     ]
    },
    {
     "data": {
      "text/plain": [
       "[0.020608855929480318,\n",
       " 0.03569558555572713,\n",
       " 0.02691710951501933,\n",
       " 0.019993527016561024,\n",
       " 0.02499190877070131]"
      ]
     },
     "metadata": {},
     "output_type": "display_data"
    }
   ],
   "source": [
    "print('Vectors of items have different lengthes.')\n",
    "print('Example of 5 vectors:')\n",
    "display([norm(x) for x in IF[:5]])"
   ]
  },
  {
   "cell_type": "code",
   "execution_count": 11,
   "metadata": {},
   "outputs": [
    {
     "name": "stdout",
     "output_type": "stream",
     "text": [
      "Table of logs:\n",
      "INFO:numexpr.utils:NumExpr defaulting to 8 threads.\n"
     ]
    },
    {
     "data": {
      "text/html": [
       "<div>\n",
       "<style scoped>\n",
       "    .dataframe tbody tr th:only-of-type {\n",
       "        vertical-align: middle;\n",
       "    }\n",
       "\n",
       "    .dataframe tbody tr th {\n",
       "        vertical-align: top;\n",
       "    }\n",
       "\n",
       "    .dataframe thead th {\n",
       "        text-align: right;\n",
       "    }\n",
       "</style>\n",
       "<table border=\"1\" class=\"dataframe\">\n",
       "  <thead>\n",
       "    <tr style=\"text-align: right;\">\n",
       "      <th></th>\n",
       "      <th>user_id</th>\n",
       "      <th>item_id</th>\n",
       "      <th>like</th>\n",
       "      <th>timestamp</th>\n",
       "    </tr>\n",
       "  </thead>\n",
       "  <tbody>\n",
       "    <tr>\n",
       "      <th>0</th>\n",
       "      <td>140</td>\n",
       "      <td>342</td>\n",
       "      <td>0</td>\n",
       "      <td>2017-03-31 05:03:42</td>\n",
       "    </tr>\n",
       "    <tr>\n",
       "      <th>1</th>\n",
       "      <td>378</td>\n",
       "      <td>172</td>\n",
       "      <td>1</td>\n",
       "      <td>2017-03-31 05:03:48</td>\n",
       "    </tr>\n",
       "    <tr>\n",
       "      <th>2</th>\n",
       "      <td>150</td>\n",
       "      <td>182</td>\n",
       "      <td>0</td>\n",
       "      <td>2017-03-31 05:04:10</td>\n",
       "    </tr>\n",
       "    <tr>\n",
       "      <th>3</th>\n",
       "      <td>455</td>\n",
       "      <td>17</td>\n",
       "      <td>0</td>\n",
       "      <td>2017-03-31 05:05:04</td>\n",
       "    </tr>\n",
       "    <tr>\n",
       "      <th>4</th>\n",
       "      <td>350</td>\n",
       "      <td>409</td>\n",
       "      <td>0</td>\n",
       "      <td>2017-03-31 05:05:35</td>\n",
       "    </tr>\n",
       "    <tr>\n",
       "      <th>...</th>\n",
       "      <td>...</td>\n",
       "      <td>...</td>\n",
       "      <td>...</td>\n",
       "      <td>...</td>\n",
       "    </tr>\n",
       "    <tr>\n",
       "      <th>8669</th>\n",
       "      <td>161</td>\n",
       "      <td>312</td>\n",
       "      <td>0</td>\n",
       "      <td>2017-04-03 10:31:59</td>\n",
       "    </tr>\n",
       "    <tr>\n",
       "      <th>8670</th>\n",
       "      <td>406</td>\n",
       "      <td>208</td>\n",
       "      <td>0</td>\n",
       "      <td>2017-04-03 10:32:23</td>\n",
       "    </tr>\n",
       "    <tr>\n",
       "      <th>8671</th>\n",
       "      <td>196</td>\n",
       "      <td>43</td>\n",
       "      <td>0</td>\n",
       "      <td>2017-04-03 10:32:56</td>\n",
       "    </tr>\n",
       "    <tr>\n",
       "      <th>8672</th>\n",
       "      <td>84</td>\n",
       "      <td>100</td>\n",
       "      <td>0</td>\n",
       "      <td>2017-04-03 10:32:59</td>\n",
       "    </tr>\n",
       "    <tr>\n",
       "      <th>8673</th>\n",
       "      <td>48</td>\n",
       "      <td>75</td>\n",
       "      <td>0</td>\n",
       "      <td>2017-04-03 10:33:15</td>\n",
       "    </tr>\n",
       "  </tbody>\n",
       "</table>\n",
       "<p>8674 rows × 4 columns</p>\n",
       "</div>"
      ],
      "text/plain": [
       "      user_id  item_id  like           timestamp\n",
       "0         140      342     0 2017-03-31 05:03:42\n",
       "1         378      172     1 2017-03-31 05:03:48\n",
       "2         150      182     0 2017-03-31 05:04:10\n",
       "3         455       17     0 2017-03-31 05:05:04\n",
       "4         350      409     0 2017-03-31 05:05:35\n",
       "...       ...      ...   ...                 ...\n",
       "8669      161      312     0 2017-04-03 10:31:59\n",
       "8670      406      208     0 2017-04-03 10:32:23\n",
       "8671      196       43     0 2017-04-03 10:32:56\n",
       "8672       84      100     0 2017-04-03 10:32:59\n",
       "8673       48       75     0 2017-04-03 10:33:15\n",
       "\n",
       "[8674 rows x 4 columns]"
      ]
     },
     "execution_count": 11,
     "metadata": {},
     "output_type": "execute_result"
    }
   ],
   "source": [
    "print('Table of logs:')\n",
    "logs = (pd.read_csv(os.path.join(os.path.abspath(PATH_TO_DATA), 'train.csv'))).sort_values(by = ['timestamp'])\n",
    "logs[\"timestamp\"]= pd.to_datetime(logs[\"timestamp\"]*10**9)\n",
    "logs"
   ]
  },
  {
   "cell_type": "code",
   "execution_count": 12,
   "metadata": {},
   "outputs": [
    {
     "name": "stdout",
     "output_type": "stream",
     "text": [
      "Number of users in log table equals 497. User-Id index starts from 0 to 496.\n"
     ]
    }
   ],
   "source": [
    "print(f'Number of users in log table equals {len(np.unique(logs.user_id))}. User-Id index starts from {np.min(logs.user_id)} to {np.max(logs.user_id)}.')"
   ]
  },
  {
   "cell_type": "code",
   "execution_count": 13,
   "metadata": {},
   "outputs": [
    {
     "name": "stdout",
     "output_type": "stream",
     "text": [
      "Number of items in log table equals 444. Item-Id index starts from 0 to 443.\n"
     ]
    }
   ],
   "source": [
    "print(f'Number of items in log table equals {len(np.unique(logs.item_id))}. Item-Id index starts from {np.min(logs.item_id)} to {np.max(logs.item_id)}.')"
   ]
  },
  {
   "cell_type": "markdown",
   "metadata": {},
   "source": [
    "# Solution"
   ]
  },
  {
   "cell_type": "markdown",
   "metadata": {},
   "source": [
    "Product of matrices `UF*IF.T` gives matrix `UI` (user-item). \n",
    "\n",
    "Each element in `UI` is a measure of the `user preference` for the item as the scalar product of `user-features` (as `uf`) and `item-features` (as `if`) vectors. So by element weights we can sort *item preferencies* by user. \n",
    "\n",
    "Each element in UI is a scalar product of `uf` and `if` vectors. Scalar product equals $cos(\\alpha)*|uf|*|if|$. To rate items for the user `if` vectors should have the same lengths. So preferencies are measured by cosinuses of angles between vectors in features space.\n",
    "\n",
    "Next step is to know how to change `UF` according user `views` and `likes`.\n",
    "\n",
    "Each `like` should change user preferencies. Scalar product should be larger for the item and user. It can be done by decrease angle between them. For example, we can add `item-feature` vector to `user-item` with weight `w_1`. \n",
    "$$uf^{new}= \\frac{(uf+w_1*if^{like})}{ |uf+w_1*if^{like}|}$$\n",
    "\n",
    "The same step for `views`.\n",
    "\n",
    "$$uf^{new}= \\frac{(uf+w_2*if^{view})}{ |uf+w_2*if^{view}|}$$\n",
    "\n",
    "We can assume that `w2` is too small or negative. It will be decided by quality of solution according metric top-K.\n",
    "\n",
    "So lengths of vectors in features space is not important. Angles between vectors are important."
   ]
  },
  {
   "cell_type": "code",
   "execution_count": 14,
   "metadata": {},
   "outputs": [],
   "source": [
    "'''\n",
    "    Function that normalize all vectors in the matrix A by the vector's lengths.\n",
    "    Vectors stored as rows in the matrix A.\n",
    "'''\n",
    "def norm_matrix(A: np.array):\n",
    "    B = A.copy()\n",
    "    for i, vector in enumerate(A):\n",
    "        B[i] = vector/norm(vector)\n",
    "    return B"
   ]
  },
  {
   "cell_type": "markdown",
   "metadata": {},
   "source": [
    "# Default score"
   ]
  },
  {
   "cell_type": "code",
   "execution_count": 15,
   "metadata": {},
   "outputs": [
    {
     "name": "stdout",
     "output_type": "stream",
     "text": [
      "Example of using the function:\n"
     ]
    },
    {
     "data": {
      "text/plain": [
       "[5, 8, 9]"
      ]
     },
     "execution_count": 15,
     "metadata": {},
     "output_type": "execute_result"
    }
   ],
   "source": [
    "'''\n",
    "Get K indexes with max values from vector V.\n",
    "V is a numpy.array with shape (1,)\n",
    "'''\n",
    "def get_indexes_with_max_values(V :np.array, K = 20):\n",
    "    N = min(K, len(V)) # N indexes with max values cant be more than dimension of the Vector\n",
    "    U = [(i,x) for i, x in enumerate(V)] # save indexes for Vector's values\n",
    "    U = sorted(U, key = lambda x: -x[1])[:N] # sort array by values\n",
    "    I = [i for i, x in U] # return indexes\n",
    "    return I\n",
    "\n",
    "print(\"Example of using the function:\")\n",
    "A = np.array([6,2,3,4,5, 2000, 20, 2, 2000, 2000])\n",
    "get_indexes_with_max_values(A, 3)"
   ]
  },
  {
   "cell_type": "code",
   "execution_count": 16,
   "metadata": {},
   "outputs": [],
   "source": [
    "'''\n",
    "Returns 20 banners for every `user_id` in log table.\n",
    "Assume that UI matrix is a constant.\n",
    "'''\n",
    "def make_simple_recommendations(logs: pd.DataFrame, ui_matrix : np.array):\n",
    "    result = []\n",
    "    for index, row in logs.iterrows():\n",
    "        preferencies = ui_matrix[row.user_id] # list of user preferencies for items\n",
    "        banners = get_indexes_with_max_values(preferencies) # get 20 banners with max preferencies\n",
    "        result.append(banners) # save banners in result list\n",
    "    return result"
   ]
  },
  {
   "cell_type": "code",
   "execution_count": 17,
   "metadata": {},
   "outputs": [],
   "source": [
    "'''\n",
    "Get score by likes in recommendations.\n",
    "'''\n",
    "def get_score(logs: pd.DataFrame, R: np.array):\n",
    "    score=0\n",
    "    count = 0\n",
    "    for (index, row), rs in zip(logs.iterrows(),R):\n",
    "#         print(index)\n",
    "#         print(row)\n",
    "#         print(rs)\n",
    "#         print()\n",
    "        if row.like==1 and row.item_id in rs:\n",
    "            score+=1\n",
    "#         if count ==10: break\n",
    "#         count +=1\n",
    "    likes = np.sum(logs.like)\n",
    "    return score/likes"
   ]
  },
  {
   "cell_type": "markdown",
   "metadata": {},
   "source": [
    "Score quality of the solution that assumes `user-features` matrix is not changing. So `user-item` matrix is not changing too."
   ]
  },
  {
   "cell_type": "markdown",
   "metadata": {},
   "source": [
    "**no scaling**"
   ]
  },
  {
   "cell_type": "code",
   "execution_count": 18,
   "metadata": {},
   "outputs": [],
   "source": [
    "UI_const = UF.dot(IF.T)"
   ]
  },
  {
   "cell_type": "code",
   "execution_count": 19,
   "metadata": {},
   "outputs": [
    {
     "name": "stdout",
     "output_type": "stream",
     "text": [
      "CPU times: user 4.36 s, sys: 63.5 ms, total: 4.42 s\n",
      "Wall time: 4 s\n"
     ]
    }
   ],
   "source": [
    "%%time\n",
    "simple_recommendations = make_simple_recommendations(logs, UI_const)"
   ]
  },
  {
   "cell_type": "code",
   "execution_count": 20,
   "metadata": {},
   "outputs": [
    {
     "data": {
      "text/plain": [
       "0.43315858453473133"
      ]
     },
     "execution_count": 20,
     "metadata": {},
     "output_type": "execute_result"
    }
   ],
   "source": [
    "get_score(logs, simple_recommendations)"
   ]
  },
  {
   "cell_type": "markdown",
   "metadata": {},
   "source": [
    "**scaling UF**"
   ]
  },
  {
   "cell_type": "code",
   "execution_count": 21,
   "metadata": {},
   "outputs": [],
   "source": [
    "# norm UF and IF matrices\n",
    "UF_norm = norm_matrix(UF)\n",
    "# calculate `user-item` matrix\n",
    "UI_const = UF_norm.dot(IF.T)"
   ]
  },
  {
   "cell_type": "code",
   "execution_count": 22,
   "metadata": {},
   "outputs": [
    {
     "name": "stdout",
     "output_type": "stream",
     "text": [
      "CPU times: user 4.58 s, sys: 27.5 ms, total: 4.61 s\n",
      "Wall time: 4.18 s\n"
     ]
    }
   ],
   "source": [
    "%%time\n",
    "simple_recommendations = make_simple_recommendations(logs, UI_const)"
   ]
  },
  {
   "cell_type": "code",
   "execution_count": 23,
   "metadata": {},
   "outputs": [
    {
     "data": {
      "text/plain": [
       "0.43315858453473133"
      ]
     },
     "execution_count": 23,
     "metadata": {},
     "output_type": "execute_result"
    }
   ],
   "source": [
    "get_score(logs, simple_recommendations)"
   ]
  },
  {
   "cell_type": "markdown",
   "metadata": {},
   "source": [
    "**scaling UF and IF**"
   ]
  },
  {
   "cell_type": "code",
   "execution_count": 24,
   "metadata": {},
   "outputs": [],
   "source": [
    "# norm UF and IF matrices\n",
    "UF_norm = norm_matrix(UF)\n",
    "IF_norm = norm_matrix(IF)\n",
    "# calculate `user-item` matrix\n",
    "UI_const = UF_norm.dot(IF_norm.T)"
   ]
  },
  {
   "cell_type": "code",
   "execution_count": 25,
   "metadata": {},
   "outputs": [
    {
     "name": "stdout",
     "output_type": "stream",
     "text": [
      "CPU times: user 4.33 s, sys: 44 ms, total: 4.37 s\n",
      "Wall time: 3.95 s\n"
     ]
    }
   ],
   "source": [
    "%%time\n",
    "simple_recommendations = make_simple_recommendations(logs, UI_const)"
   ]
  },
  {
   "cell_type": "code",
   "execution_count": 26,
   "metadata": {},
   "outputs": [
    {
     "data": {
      "text/plain": [
       "0.08191349934469201"
      ]
     },
     "execution_count": 26,
     "metadata": {},
     "output_type": "execute_result"
    }
   ],
   "source": [
    "get_score(logs, simple_recommendations)"
   ]
  },
  {
   "cell_type": "markdown",
   "metadata": {},
   "source": [
    "# Evaluating UF matrix"
   ]
  },
  {
   "cell_type": "code",
   "execution_count": 89,
   "metadata": {},
   "outputs": [],
   "source": [
    "from sklearn.base import BaseEstimator\n",
    "\n",
    "\n",
    "class RecommendationEstimator(BaseEstimator):\n",
    "    def __init__(self, UF: np.array, IF: np.array, w1=0, w2=0):\n",
    "        self.w1 = w1\n",
    "        self.w2 = w2\n",
    "        self.UF = UF\n",
    "        self.IF = IF\n",
    "\n",
    "    '''Fit and train the model: train UF-matrix according views and likes in the past time.\n",
    "    X_train - is an array of user_id that is sorted by time.\n",
    "    y - is the array of recommendations according likes. '''\n",
    "\n",
    "    def fit(self, X_train: np.array, y: np.array):\n",
    "        # normalize UF matrix and save normed version of IF matrix\n",
    "        self.UF = norm_matrix(self.UF)\n",
    "        IF_normed = norm_matrix(self.IF)\n",
    "        # start train UF-matrix\n",
    "        # assume structure of X_train consists of 2 colimns [user_id, timestamp]\n",
    "        # assume structure of y is two columns [item_id , like\n",
    "        for row, prediction in zip(X_train, y):\n",
    "            # list of user preferences for items\n",
    "            # first element is an user id , second is for time\n",
    "            user_id = int(row[0])\n",
    "            item_id = int(prediction[0])\n",
    "            like = int(prediction[1])\n",
    "\n",
    "            preferences = self.UF[user_id].dot(self.IF.T)\n",
    "            banners = get_indexes_with_max_values(\n",
    "                preferences)  # list of recommendations\n",
    "\n",
    "            if like == 1:  # like is 1\n",
    "                uf_transform = self.UF[user_id] + self.w1 * IF_normed[\n",
    "                    item_id]  # use item_id\n",
    "                self.UF[user_id] = uf_transform / norm(\n",
    "                    uf_transform)  # normalize transformation\n",
    "            else:  # like is 0 (view only)\n",
    "                uf_transform = self.UF[user_id] + self.w2 * IF_normed[\n",
    "                    item_id]  # use item_id\n",
    "                self.UF[user_id] = uf_transform / norm(\n",
    "                    uf_transform)  # normalize transformation\n",
    "        return self\n",
    "\n",
    "    '''Predict banners for X and trained before matrix UF (user-features)'''\n",
    "\n",
    "    def predict(self, X):\n",
    "        y_predictions = []\n",
    "        for row in zip(X):\n",
    "            user_id = int(row[0])\n",
    "            # use trained Uf for calculate predictions\n",
    "            preferences = self.UF[user_id].dot(self.IF.T)\n",
    "            banners = get_indexes_with_max_values(\n",
    "                preferences)  # list of recommendations\n",
    "            y_predictions.append(banners)\n",
    "        return y_predictions\n",
    "\n",
    "    '''Score validation set. Use trained before UF-matrix.'''\n",
    "\n",
    "    def score(self, X_val: np.array, y: np.array) -> float:\n",
    "        likes = np.sum(y[:, 1])  # count all likes\n",
    "        c = 0  # count liked items in predictions\n",
    "        IF_normed = norm_matrix(self.IF)  # save copy of normalized\n",
    "        UF_for_score = norm_matrix(\n",
    "            self.UF).copy()  # to do not change pre-trained matrix\n",
    "\n",
    "        for row, prediction in zip(X_val, y):\n",
    "            user_id = int(row[0])\n",
    "            item_id = int(prediction[0])\n",
    "            like = int(prediction[1])\n",
    "\n",
    "            # use trained Uf for calculate predictions\n",
    "            preferences = UF_for_score[user_id].dot(self.IF.T)\n",
    "            # list of recommendations\n",
    "            banners = get_indexes_with_max_values(preferences)  \n",
    "\n",
    "            if like==1 and item_id in banners:\n",
    "                c += 1\n",
    "\n",
    "            # continue evaluate matrix UF (copy of it)\n",
    "            if like == 1:  # like is 1\n",
    "                uf_transform = UF_for_score[user_id] + self.w1 * IF_normed[\n",
    "                    item_id]  # use item_id\n",
    "                UF_for_score[user_id] = uf_transform / norm(\n",
    "                    uf_transform)  # normalize transformation\n",
    "            else:  # like is 0 (view only)\n",
    "                uf_transform = UF_for_score[user_id] + self.w2 * IF_normed[\n",
    "                    item_id]  # use item_id\n",
    "                UF_for_score[user_id] = uf_transform / norm(\n",
    "                    uf_transform)  # normalize transformation\n",
    "\n",
    "        return c / likes"
   ]
  },
  {
   "cell_type": "code",
   "execution_count": 132,
   "metadata": {},
   "outputs": [
    {
     "data": {
      "text/plain": [
       "5.315072906367325"
      ]
     },
     "execution_count": 132,
     "metadata": {},
     "output_type": "execute_result"
    }
   ],
   "source": [
    "a = np.array([3,4])\n",
    "b = np.array([1,0])\n",
    "z = a+0.5*b\n",
    "norm(z)"
   ]
  },
  {
   "cell_type": "code",
   "execution_count": 133,
   "metadata": {},
   "outputs": [
    {
     "data": {
      "text/plain": [
       "(1.0, 1.0)"
      ]
     },
     "execution_count": 133,
     "metadata": {},
     "output_type": "execute_result"
    }
   ],
   "source": [
    "v = z/norm(z)\n",
    "u = a/norm(a)\n",
    "norm(v), norm(u)"
   ]
  },
  {
   "cell_type": "code",
   "execution_count": 134,
   "metadata": {},
   "outputs": [
    {
     "data": {
      "text/plain": [
       "0.6"
      ]
     },
     "execution_count": 134,
     "metadata": {},
     "output_type": "execute_result"
    }
   ],
   "source": [
    "u.dot(b)"
   ]
  },
  {
   "cell_type": "markdown",
   "metadata": {},
   "source": [
    "## constant UF"
   ]
  },
  {
   "cell_type": "code",
   "execution_count": 90,
   "metadata": {},
   "outputs": [],
   "source": [
    "re = RecommendationEstimator(UF.copy(), IF.copy(), 0, 0) # not changing UF matrix\n",
    "X = logs[\"user_id timestamp\".split()].values\n",
    "y = logs[\"item_id like\".split()].values"
   ]
  },
  {
   "cell_type": "code",
   "execution_count": 87,
   "metadata": {},
   "outputs": [
    {
     "name": "stdout",
     "output_type": "stream",
     "text": [
      "CPU times: user 3.33 s, sys: 4.1 ms, total: 3.33 s\n",
      "Wall time: 3.32 s\n"
     ]
    },
    {
     "data": {
      "text/plain": [
       "0.43315858453473133"
      ]
     },
     "execution_count": 87,
     "metadata": {},
     "output_type": "execute_result"
    }
   ],
   "source": [
    "%%time\n",
    "re.score(X, y)"
   ]
  },
  {
   "cell_type": "markdown",
   "metadata": {},
   "source": [
    "## Eval UF"
   ]
  },
  {
   "cell_type": "code",
   "execution_count": 88,
   "metadata": {},
   "outputs": [],
   "source": [
    "from sklearn.model_selection import RandomizedSearchCV\n",
    "from sklearn.model_selection import TimeSeriesSplit\n",
    "from scipy.stats import uniform"
   ]
  },
  {
   "cell_type": "code",
   "execution_count": 97,
   "metadata": {},
   "outputs": [
    {
     "name": "stdout",
     "output_type": "stream",
     "text": [
      "Fitting 3 folds for each of 100 candidates, totalling 300 fits\n"
     ]
    },
    {
     "name": "stderr",
     "output_type": "stream",
     "text": [
      "[Parallel(n_jobs=3)]: Using backend LokyBackend with 3 concurrent workers.\n",
      "[Parallel(n_jobs=3)]: Done  35 tasks      | elapsed:   47.4s\n",
      "[Parallel(n_jobs=3)]: Done 156 tasks      | elapsed:  3.3min\n",
      "[Parallel(n_jobs=3)]: Done 300 out of 300 | elapsed:  6.0min finished\n"
     ]
    },
    {
     "name": "stdout",
     "output_type": "stream",
     "text": [
      "CPU times: user 9.84 s, sys: 92.5 ms, total: 9.94 s\n",
      "Wall time: 6min 4s\n"
     ]
    },
    {
     "data": {
      "text/plain": [
       "RandomizedSearchCV(cv=TimeSeriesSplit(max_train_size=None, n_splits=3),\n",
       "                   estimator=RecommendationEstimator(IF=array([[ 1.43281764e-03, -3.24297451e-03, -3.03020820e-03, ...,\n",
       "        -2.40815746e-03, -2.40815746e-03,  6.12991795e-04],\n",
       "       [ 2.48171296e-03, -5.61699661e-03, -5.24847456e-03, ...,\n",
       "        -4.17105108e-03, -4.17105108e-03,  1.06173293e-03],\n",
       "       [ 1.87139498e-03, -4.23563056e-03, -3.9...\n",
       "       [ 0.00049145, -0.00111233, -0.00103935, ..., -0.00082599,\n",
       "        -0.00082599,  0.00021025],\n",
       "       [ 0.0009829 , -0.00222466, -0.00207871, ..., -0.00165198,\n",
       "        -0.00165198,  0.00042051],\n",
       "       [ 0.00109892, -0.00248725, -0.00232406, ..., -0.00184697,\n",
       "        -0.00184697,  0.00047014]])),\n",
       "                   n_iter=100, n_jobs=3,\n",
       "                   param_distributions={'w1': <scipy.stats._distn_infrastructure.rv_frozen object at 0x7fb63cd02bb0>},\n",
       "                   verbose=2)"
      ]
     },
     "execution_count": 97,
     "metadata": {},
     "output_type": "execute_result"
    }
   ],
   "source": [
    "%%time\n",
    "params = {\n",
    "    'w1': uniform(loc=-10, scale=20),\n",
    "#     'w2': uniform(loc=-100, scale=200),\n",
    "}\n",
    "gs = RandomizedSearchCV(re, params, verbose = 2, n_jobs = 3, cv = TimeSeriesSplit(3), n_iter = 100)\n",
    "gs.fit(X, y)"
   ]
  },
  {
   "cell_type": "code",
   "execution_count": 98,
   "metadata": {},
   "outputs": [
    {
     "data": {
      "text/plain": [
       "0.42216852947170996"
      ]
     },
     "execution_count": 98,
     "metadata": {},
     "output_type": "execute_result"
    }
   ],
   "source": [
    "gs.best_score_"
   ]
  },
  {
   "cell_type": "code",
   "execution_count": 103,
   "metadata": {},
   "outputs": [],
   "source": [
    "re = RecommendationEstimator(UF.copy(), IF.copy(), 4.47, 0) # not changing UF matrix\n",
    "X = logs[\"user_id timestamp\".split()].values\n",
    "y = logs[\"item_id like\".split()].values"
   ]
  },
  {
   "cell_type": "code",
   "execution_count": 104,
   "metadata": {},
   "outputs": [
    {
     "name": "stdout",
     "output_type": "stream",
     "text": [
      "CPU times: user 3.03 s, sys: 3.99 ms, total: 3.03 s\n",
      "Wall time: 3.03 s\n"
     ]
    },
    {
     "data": {
      "text/plain": [
       "0.43315858453473133"
      ]
     },
     "execution_count": 104,
     "metadata": {},
     "output_type": "execute_result"
    }
   ],
   "source": [
    "%%time\n",
    "re.score(X, y)"
   ]
  },
  {
   "cell_type": "markdown",
   "metadata": {},
   "source": [
    "# TODO: delete from recommendations seen banners"
   ]
  },
  {
   "cell_type": "code",
   "execution_count": null,
   "metadata": {},
   "outputs": [],
   "source": []
  }
 ],
 "metadata": {
  "kernelspec": {
   "display_name": "Python 3",
   "language": "python",
   "name": "python3"
  },
  "language_info": {
   "codemirror_mode": {
    "name": "ipython",
    "version": 3
   },
   "file_extension": ".py",
   "mimetype": "text/x-python",
   "name": "python",
   "nbconvert_exporter": "python",
   "pygments_lexer": "ipython3",
   "version": "3.8.3"
  },
  "pycharm": {
   "stem_cell": {
    "cell_type": "raw",
    "metadata": {
     "collapsed": false
    },
    "source": []
   }
  },
  "toc": {
   "base_numbering": 1,
   "nav_menu": {},
   "number_sections": false,
   "sideBar": true,
   "skip_h1_title": false,
   "title_cell": "Table of Contents",
   "title_sidebar": "Contents",
   "toc_cell": false,
   "toc_position": {
    "height": "calc(100% - 180px)",
    "left": "10px",
    "top": "150px",
    "width": "308.785px"
   },
   "toc_section_display": true,
   "toc_window_display": true
  },
  "toc-autonumbering": true,
  "widgets": {
   "application/vnd.jupyter.widget-state+json": {
    "state": {},
    "version_major": 2,
    "version_minor": 0
   }
  }
 },
 "nbformat": 4,
 "nbformat_minor": 4
}
